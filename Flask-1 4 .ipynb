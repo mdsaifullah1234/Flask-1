{
 "cells": [
  {
   "cell_type": "markdown",
   "metadata": {},
   "source": [
    "Q1. What is Flask Framework? What are the advantages of Flask Framework?"
   ]
  },
  {
   "cell_type": "markdown",
   "metadata": {},
   "source": [
    "Answer = Flask is a lightweight and flexible web framework for Python. It's known for its simplicity, making it an excellent choice for building web applications quickly and efficiently. Flask is based on the WSGI (Web Server Gateway Interface) and Jinja2 template engine.\n",
    "\n",
    "Advantages of Flask Framework:\n",
    "\n",
    "Simplicity: Flask is straightforward and easy to get started with. Its simplicity makes it a great choice for beginners and for rapidly prototyping web applications.\n",
    "\n",
    "Lightweight: As a micro-framework, Flask is minimalist and doesn't come bundled with unnecessary features. It allows developers to add the components they need, offering more flexibility.\n",
    "\n",
    "Scalability: Flask is scalable, enabling developers to scale their applications as they grow without complicating the existing structure.\n",
    "\n",
    "Extensible: It provides the flexibility to add libraries and extensions as required, allowing developers to use third-party libraries to extend functionality easily.\n",
    "\n",
    "Jinja2 Templating: Flask uses Jinja2, a powerful and designer-friendly templating engine that enables template inheritance, creating layouts, and avoiding code duplication.\n",
    "\n",
    "Built-in Development Server: Flask comes with a built-in development server, enabling developers to test applications locally without requiring additional setups.\n",
    "\n",
    "Extensive Documentation: Flask has comprehensive and well-organized documentation, making it easier for developers to understand and use the framework effectively.\n",
    "\n",
    "Community and Ecosystem: Flask has a strong and active community, providing numerous extensions and resources, which can help in quickly solving issues and finding solutions.\n",
    "\n",
    "RESTful Request Handling: It has built-in support for handling RESTful request dispatching, allowing the creation of APIs easily."
   ]
  },
  {
   "cell_type": "markdown",
   "metadata": {},
   "source": [
    "Q2. Create a simple Flask application to display ‘Hello World!!’. Attach the screenshot of the output in\n",
    "Jupyter Notebook."
   ]
  },
  {
   "cell_type": "code",
   "execution_count": null,
   "metadata": {},
   "outputs": [],
   "source": [
    "from flask import Flask\n",
    "\n",
    "app = Flask(__name__)\n",
    "\n",
    "@app.route('/')\n",
    "def hello_world():\n",
    "    return 'Hello World!!'\n",
    "\n",
    "if __name__ == '__main__':\n",
    "    app.run()\n"
   ]
  },
  {
   "cell_type": "markdown",
   "metadata": {},
   "source": [
    "ave the above code in a file (for instance, app.py).\n",
    "Run the application by executing !python app.py in a Jupyter Notebook cell (or use !flask run if using Flask's built-in development server).\n",
    "The application will start a local server. It'll display \"Hello World!!\" when you navigate to http://127.0.0.1:5000/ or http://localhost:5000/ in a web browser."
   ]
  },
  {
   "cell_type": "markdown",
   "metadata": {},
   "source": [
    "Q3. What is App routing in Flask? Why do we use app routes?"
   ]
  },
  {
   "cell_type": "markdown",
   "metadata": {},
   "source": [
    "Answer = App routing in Flask refers to the process of mapping URLs to view functions within a Flask application. In Flask, routes are defined using the @app.route() decorator, specifying which URL should trigger the associated function.\n",
    "\n",
    "Why we use app routes in Flask:\n",
    "\n",
    "URL Mapping: Routes define the URLs that users can access in the web application. Each route is associated with a specific function that executes when the corresponding URL is visited.\n",
    "\n",
    "View Functions: App routes allow the assignment of view functions to URLs. When a user visits a particular URL, the associated view function is executed, generating a response that is sent back to the user's browser.\n",
    "\n",
    "Modular Structure: Routes provide a way to organize the application, making it easy to maintain and understand. Each route corresponds to a specific functionality or page within the application.\n",
    "\n",
    "Dynamic Content: App routes are used to generate dynamic content for different URLs. Parameters can be passed in the URL, and these parameters can be used within the view function to generate personalized content."
   ]
  },
  {
   "cell_type": "code",
   "execution_count": null,
   "metadata": {},
   "outputs": [],
   "source": [
    "from flask import Flask\n",
    "\n",
    "app = Flask(__name__)\n",
    "\n",
    "@app.route('/')\n",
    "def index():\n",
    "    return 'Home Page'\n",
    "\n",
    "@app.route('/about')\n",
    "def about():\n",
    "    return 'About Page'\n",
    "\n",
    "@app.route('/user/<username>')\n",
    "def user_profile(username):\n",
    "    return f'Profile of {username}'\n",
    "\n",
    "if __name__ == '__main__':\n",
    "    app.run()\n"
   ]
  },
  {
   "cell_type": "markdown",
   "metadata": {},
   "source": [
    "The @app.route() decorator defines routes such as /, /about, and /user/<username> and associates them with corresponding view functions.\n",
    "When a user accesses these URLs, the respective view function is executed, generating and returning the content associated with that route.\n"
   ]
  },
  {
   "cell_type": "markdown",
   "metadata": {},
   "source": [
    "Q4. Create a “/welcome” route to display the welcome message “Welcome to ABC Corporation” and a “/”\n",
    "route to show the following details:\n",
    "Company Name: ABC Corporation\n",
    "Location: India\n",
    "Contact Detail: 999-999-9999"
   ]
  },
  {
   "cell_type": "code",
   "execution_count": null,
   "metadata": {},
   "outputs": [],
   "source": [
    "from flask import Flask\n",
    "\n",
    "app = Flask(__name__)\n",
    "\n",
    "@app.route('/welcome')\n",
    "def welcome():\n",
    "    return 'Welcome to ABC Corporation'\n",
    "\n",
    "@app.route('/')\n",
    "def details():\n",
    "    return '''\n",
    "    <h1>Company Name: ABC Corporation</h1>\n",
    "    <p>Location: India</p>\n",
    "    <p>Contact Detail: 999-999-9999</p>\n",
    "    '''\n",
    "\n",
    "if __name__ == '__main__':\n",
    "    app.run()\n"
   ]
  },
  {
   "cell_type": "markdown",
   "metadata": {},
   "source": [
    "The /welcome route is created, which will display \"Welcome to ABC Corporation\" when accessed.\n",
    "The / route is defined to display the company details using HTML formatting, including the company name, location, and contact details.\n",
    "When you run this Flask application and visit the URLs:\n",
    "\n",
    "Navigating to http://127.0.0.1:5000/welcome will show the \"Welcome to ABC Corporation\" message.\n",
    "Visiting http://127.0.0.1:5000/ will display the company details"
   ]
  },
  {
   "cell_type": "markdown",
   "metadata": {},
   "source": [
    "Q5. What function is used in Flask for URL Building? Write a Python code to demonstrate the working of the\n",
    "url_for() function.\n"
   ]
  },
  {
   "cell_type": "markdown",
   "metadata": {},
   "source": [
    "Answer = Flask, the url_for() function is used for URL building. It generates a URL to a specific function within your application. This function creates a URL by endpoint name, allowing you to avoid hardcoding URLs in your templates or application code. It takes the endpoint name as the first argument and can also accept additional parameters."
   ]
  },
  {
   "cell_type": "code",
   "execution_count": null,
   "metadata": {},
   "outputs": [],
   "source": [
    "from flask import Flask, url_for\n",
    "\n",
    "app = Flask(__name__)\n",
    "\n",
    "@app.route('/user/<username>')\n",
    "def profile(username):\n",
    "    return f'Hello, {username}'\n",
    "\n",
    "@app.route('/home')\n",
    "def home():\n",
    "    # Using url_for to generate the URL for the 'profile' function\n",
    "    url = url_for('profile', username='JohnDoe')  # Building URL for the 'profile' function\n",
    "    return f'The URL for user profile is: {url}'\n",
    "\n",
    "if __name__ == '__main__':\n",
    "    app.run()\n"
   ]
  },
  {
   "cell_type": "markdown",
   "metadata": {},
   "source": [
    "In this example:\n",
    "\n",
    "The /user/<username> route defines a profile function that accepts a username parameter and returns a greeting message.\n",
    "The /home route defines a home function that uses the url_for() function to generate the URL for the profile function and the username 'JohnDoe'.\n",
    "When you visit http://127.0.0.1:5000/home, it will display the generated URL for the profile function with the username parameter.\n",
    "This demonstrates how url_for() is used to dynamically generate URLs based on the endpoint and any additional parameters, offering flexibility and avoiding hardcoded URLs within the Flask application.\n",
    "\n",
    "\n",
    "\n",
    "\n"
   ]
  }
 ],
 "metadata": {
  "kernelspec": {
   "display_name": "Python 3",
   "language": "python",
   "name": "python3"
  },
  "language_info": {
   "codemirror_mode": {
    "name": "ipython",
    "version": 3
   },
   "file_extension": ".py",
   "mimetype": "text/x-python",
   "name": "python",
   "nbconvert_exporter": "python",
   "pygments_lexer": "ipython3",
   "version": "3.8.10"
  }
 },
 "nbformat": 4,
 "nbformat_minor": 2
}
